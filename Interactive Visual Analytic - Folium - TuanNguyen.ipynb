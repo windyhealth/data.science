{
 "cells": [
  {
   "cell_type": "markdown",
   "id": "82ae3d6b",
   "metadata": {},
   "source": [
    "# Launch Sites Locations Analysis with Folium"
   ]
  },
  {
   "cell_type": "code",
   "execution_count": 1,
   "id": "d1aa3d6d",
   "metadata": {},
   "outputs": [
    {
     "ename": "ModuleNotFoundError",
     "evalue": "No module named 'folium'",
     "output_type": "error",
     "traceback": [
      "\u001b[0;31m---------------------------------------------------------------------------\u001b[0m",
      "\u001b[0;31mModuleNotFoundError\u001b[0m                       Traceback (most recent call last)",
      "Cell \u001b[0;32mIn[1], line 2\u001b[0m\n\u001b[1;32m      1\u001b[0m \u001b[38;5;66;03m# Import libraries\u001b[39;00m\n\u001b[0;32m----> 2\u001b[0m \u001b[38;5;28;01mimport\u001b[39;00m \u001b[38;5;21;01mfolium\u001b[39;00m\n\u001b[1;32m      3\u001b[0m \u001b[38;5;28;01mimport\u001b[39;00m \u001b[38;5;21;01mwget\u001b[39;00m\n\u001b[1;32m      4\u001b[0m \u001b[38;5;28;01mimport\u001b[39;00m \u001b[38;5;21;01mpandas\u001b[39;00m \u001b[38;5;28;01mas\u001b[39;00m \u001b[38;5;21;01mpd\u001b[39;00m\n",
      "\u001b[0;31mModuleNotFoundError\u001b[0m: No module named 'folium'"
     ]
    }
   ],
   "source": [
    "# Import libraries\n",
    "import folium\n",
    "import wget\n",
    "import pandas as pd"
   ]
  },
  {
   "cell_type": "code",
   "execution_count": null,
   "id": "29e27a13",
   "metadata": {},
   "outputs": [],
   "source": [
    "# Folium Plugins\n",
    "from folium.plugins import MarkerCluster\n",
    "from folium.plugins import MousePosition\n",
    "from folium.features import DivIcon"
   ]
  },
  {
   "cell_type": "markdown",
   "id": "edd1480a",
   "metadata": {},
   "source": [
    "## Task 1: Mark all launch sites on a map"
   ]
  },
  {
   "cell_type": "code",
   "execution_count": null,
   "id": "ae55cde2",
   "metadata": {},
   "outputs": [],
   "source": [
    "# Download and read the `spacex_launch_geo.csv`\n",
    "spacex_csv_file = wget.download('https://cf-courses-data.s3.us.cloud-object-storage.appdomain.cloud/IBM-DS0321EN-SkillsNetwork/datasets/spacex_launch_geo.csv')\n",
    "spacex_df=pd.read_csv(spacex_csv_file)"
   ]
  },
  {
   "cell_type": "code",
   "execution_count": null,
   "id": "8e211398",
   "metadata": {},
   "outputs": [],
   "source": [
    "spacex_df.head()"
   ]
  },
  {
   "cell_type": "code",
   "execution_count": null,
   "id": "6d06703e",
   "metadata": {},
   "outputs": [],
   "source": [
    "# Select relevant sub-columns: `Launch Site`, `Lat(Latitude)`, `Long(Longitude)`, `class`\n",
    "spacex_df = spacex_df[['Launch Site', 'Lat', 'Long', 'class']]\n",
    "launch_sites_df = spacex_df.groupby(['Launch Site'], as_index=False).first()\n",
    "launch_sites_df = launch_sites_df[['Launch Site', 'Lat', 'Long']]\n",
    "launch_sites_df.head()"
   ]
  },
  {
   "cell_type": "code",
   "execution_count": null,
   "id": "1e3f8343",
   "metadata": {},
   "outputs": [],
   "source": [
    "# Start location is NASA Johnson Space Center\n",
    "nasa_coordinate = [29.559684888503615, -95.0830971930759]\n",
    "site_map = folium.Map(location=nasa_coordinate, zoom_start=10)"
   ]
  },
  {
   "cell_type": "code",
   "execution_count": null,
   "id": "cfbf4fe6",
   "metadata": {},
   "outputs": [],
   "source": [
    "# Create a blue circle at NASA JPC's coordinate with a pop label\n",
    "# showing its name\n",
    "circle = folium.Circle(nasa_coordinate, \n",
    "                       radius=1000, \n",
    "                       color='#d35400', \n",
    "                       fill=True).add_child(folium.Popup('Nasa Johnson Space Center'))\n",
    "# Create a blue cirle at NASA JPC's coordinate with a icon showing\n",
    "# its name\n",
    "marker = folium.map.Marker(\n",
    "    nasa_coordinate,\n",
    "    # Create an icon as a text label\n",
    "    icon=DivIcon(\n",
    "        icon_size=(20,20),\n",
    "        icon_anchor=(0,0),\n",
    "        html='<div style=\"font-size: 12; color:#d3540;\"><b>%s</b></div>' % 'NASA JSC',\n",
    "    )\n",
    ")\n",
    "site_map.add_child(circle)\n",
    "site_map.add_child(marker)"
   ]
  },
  {
   "cell_type": "code",
   "execution_count": null,
   "id": "6d84e672",
   "metadata": {},
   "outputs": [],
   "source": [
    "launch_sites_df.head()"
   ]
  },
  {
   "cell_type": "code",
   "execution_count": null,
   "id": "923a6ae8",
   "metadata": {},
   "outputs": [],
   "source": [
    "def add_marker_cirle(lat, long, name):\n",
    "    item_coordinate = [lat, long]\n",
    "    # Create a blue circle \n",
    "    circle = folium.Circle(item_coordinate, \n",
    "                       radius=100, \n",
    "                       color='#d35400', \n",
    "                       fill=True).add_child(folium.Popup(name))\n",
    "    marker = folium.map.Marker(\n",
    "        item_coordinate,\n",
    "        # Create an icon as a text label\n",
    "        icon=DivIcon(\n",
    "            icon_size=(20,20),\n",
    "            icon_anchor=(0,0),\n",
    "            html='<div style=\"font-size: 12; color:#d3540;\"><b>%s</b></div>' % name,\n",
    "        )\n",
    "    )\n",
    "    site_map.add_child(circle)\n",
    "    site_map.add_child(marker)"
   ]
  },
  {
   "cell_type": "code",
   "execution_count": null,
   "id": "0fd55002",
   "metadata": {},
   "outputs": [],
   "source": []
  },
  {
   "cell_type": "code",
   "execution_count": null,
   "id": "395d51fe",
   "metadata": {},
   "outputs": [],
   "source": [
    "# Inital the map\n",
    "site_map = folium.Map(location=nasa_coordinate, zoom_start=2)\n",
    "# For each launch site, add a circle object based on its coordinate (lat, long)\n",
    "# In addition, add Launch site name as a popup label\n",
    "for index in range(launch_sites_df.shape[0]):\n",
    "    item = launch_sites_df.iloc[index,:]\n",
    "#     print(item['Lat'])\n",
    "#     print(item['Long'])\n",
    "#     print(item['Launch Site'])\n",
    "    add_marker_cirle(item['Lat'], \n",
    "                     item['Long'],\n",
    "                     item['Launch Site']\n",
    "                    )\n",
    "    \n",
    "        "
   ]
  },
  {
   "cell_type": "code",
   "execution_count": null,
   "id": "06f7f8b4",
   "metadata": {},
   "outputs": [],
   "source": [
    "site_map"
   ]
  },
  {
   "cell_type": "markdown",
   "id": "0d3a6a11",
   "metadata": {},
   "source": [
    "## Task 2: Mark the success/failed launches for each site on the map"
   ]
  },
  {
   "cell_type": "code",
   "execution_count": null,
   "id": "3bc7be20",
   "metadata": {},
   "outputs": [],
   "source": [
    "spacex_df.tail(10)"
   ]
  },
  {
   "cell_type": "code",
   "execution_count": null,
   "id": "2778a2fd",
   "metadata": {},
   "outputs": [],
   "source": [
    "marker_cluster = MarkerCluster()"
   ]
  },
  {
   "cell_type": "code",
   "execution_count": null,
   "id": "a4cc7b2e",
   "metadata": {},
   "outputs": [],
   "source": [
    "# Function to assign color to launch outcome\n",
    "def assign_marker_color(launch_outcome):\n",
    "    if launch_outcome == 1:\n",
    "        return 'green'\n",
    "    else:\n",
    "        return 'red'\n",
    "    \n",
    "spacex_df['marker_color'] = spacex_df['class'].apply(assign_marker_color)\n",
    "spacex_df.tail(10)"
   ]
  },
  {
   "cell_type": "code",
   "execution_count": null,
   "id": "c9d0ef36",
   "metadata": {},
   "outputs": [],
   "source": [
    "# Add marker_cluster to current site_map\n",
    "site_map.add_child(marker_cluster)\n",
    "\n",
    "# for each row in spacex_df data frame\n",
    "# create a Marker object with its coordinate\n",
    "# and customize the Marker's icon property to indicate if this launch was successed or failed, \n",
    "# e.g., icon=folium.Icon(color='white', icon_color=row['marker_color']\n",
    "for index, record in spacex_df.iterrows():\n",
    "    # TODO: Create and add a Marker cluster to the site map\n",
    "    # marker = folium.Marker(...)\n",
    "    marker = folium.Marker(\n",
    "        [\n",
    "            record['Lat'],\n",
    "            record['Long']\n",
    "        ],\n",
    "        # Create an icon as a text label\n",
    "        icon=folium.Icon(color='white', icon_color=record['marker_color'])\n",
    "    )\n",
    "    marker_cluster.add_child(marker)\n",
    "\n",
    "site_map"
   ]
  },
  {
   "cell_type": "markdown",
   "id": "fe2bbbe6",
   "metadata": {},
   "source": [
    "## Task 3: Calculate the distances between a launch site to its proximities"
   ]
  },
  {
   "cell_type": "code",
   "execution_count": null,
   "id": "b7b47049",
   "metadata": {},
   "outputs": [],
   "source": [
    "# Add Mouse Position to get the coordinate (Lat, Long) for a mouse\n",
    "# over on the map\n",
    "formatter = \"function(num) {return L.Util.formatNum(num, 5);};\"\n",
    "mouse_position = MousePosition(\n",
    "    position='topright',\n",
    "    separator=' Long: ',\n",
    "    empty_string='NaN',\n",
    "    lng_first=False,\n",
    "    num_digits=20,\n",
    "    prefix='Lat:',\n",
    "    lat_formatter=formatter,\n",
    "    lng_formatter=formatter,\n",
    ")\n",
    "site_map.add_child(mouse_position)\n",
    "site_map"
   ]
  },
  {
   "cell_type": "code",
   "execution_count": null,
   "id": "acddcf63",
   "metadata": {},
   "outputs": [],
   "source": [
    "from math import sin, cos, sqrt, atan2, radians\n",
    "\n",
    "def calculate_distance(lat1, lon1, lat2, lon2):\n",
    "    # approximate radius of earth in km\n",
    "    R = 6373.0\n",
    "\n",
    "    lat1 = radians(lat1)\n",
    "    lon1 = radians(lon1)\n",
    "    lat2 = radians(lat2)\n",
    "    lon2 = radians(lon2)\n",
    "\n",
    "    dlon = lon2 - lon1\n",
    "    dlat = lat2 - lat1\n",
    "\n",
    "    a = sin(dlat / 2)**2 + cos(lat1) * cos(lat2) * sin(dlon / 2)**2\n",
    "    c = 2 * atan2(sqrt(a), sqrt(1 - a))\n",
    "\n",
    "    distance = R * c\n",
    "    return distance"
   ]
  },
  {
   "cell_type": "code",
   "execution_count": null,
   "id": "3af1af9c",
   "metadata": {},
   "outputs": [],
   "source": [
    "# Find coordinate of the closet coastline\n",
    "coastline_lat = 28.56359\n",
    "coastline_long = -80.56798\n",
    "distances = []\n",
    "for index, item in spacex_df.iterrows():\n",
    "    launch_site_lat = item['Lat']\n",
    "    launch_site_long = item['Long']\n",
    "    distance = calculate_distance(launch_site_lat, launch_site_long,\n",
    "                                  coastline_lat, coastline_long)\n",
    "    distances.append(distance)\n",
    "distance_min = min(distances)\n",
    "print('distance_min=',distance_min)"
   ]
  },
  {
   "cell_type": "code",
   "execution_count": null,
   "id": "d9401677",
   "metadata": {},
   "outputs": [],
   "source": [
    "spacex_grouped_df = spacex_df.groupby(['Launch Site'], as_index=False).first()\n",
    "spacex_grouped_df"
   ]
  },
  {
   "cell_type": "code",
   "execution_count": null,
   "id": "fb7cad0c",
   "metadata": {},
   "outputs": [],
   "source": [
    "distance_marker = folium.Marker(\n",
    "    [coastline_lat, coastline_long],\n",
    "    icon=DivIcon(\n",
    "        icon_size=(20,20),\n",
    "        icon_anchor=(0,0),\n",
    "        html='<div style=\"font-size: 12; color:#d35400;\"><b>%s</b></div>' % \"{:10.2f} KM\".format(distance_min)\n",
    "    )\n",
    ")\n",
    "\n",
    "site_map.add_child(distance_marker)\n",
    "site_map"
   ]
  },
  {
   "cell_type": "code",
   "execution_count": null,
   "id": "8aa35b30",
   "metadata": {},
   "outputs": [],
   "source": [
    "line = folium.PolyLine(locations=[[coastline_lat, coastline_long], [28.563197, -80.576820]], weight=1)\n",
    "site_map.add_child(line)"
   ]
  },
  {
   "cell_type": "code",
   "execution_count": null,
   "id": "49d0c6e4",
   "metadata": {},
   "outputs": [],
   "source": []
  },
  {
   "cell_type": "code",
   "execution_count": null,
   "id": "6212a26e",
   "metadata": {},
   "outputs": [],
   "source": []
  }
 ],
 "metadata": {
  "kernelspec": {
   "display_name": "Python 3 (ipykernel)",
   "language": "python",
   "name": "python3"
  },
  "language_info": {
   "codemirror_mode": {
    "name": "ipython",
    "version": 3
   },
   "file_extension": ".py",
   "mimetype": "text/x-python",
   "name": "python",
   "nbconvert_exporter": "python",
   "pygments_lexer": "ipython3",
   "version": "3.10.8"
  }
 },
 "nbformat": 4,
 "nbformat_minor": 5
}
